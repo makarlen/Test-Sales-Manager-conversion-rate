{
 "cells": [
  {
   "cell_type": "code",
   "execution_count": 4,
   "metadata": {},
   "outputs": [],
   "source": [
    "\n",
    "import pandas as pd\n",
    "import numpy as np"
   ]
  },
  {
   "cell_type": "code",
   "execution_count": 5,
   "metadata": {},
   "outputs": [
    {
     "name": "stdout",
     "output_type": "stream",
     "text": [
      "Dataset size:  (3183, 5)\n"
     ]
    },
    {
     "data": {
      "text/html": [
       "<div>\n",
       "<style>\n",
       "    .dataframe thead tr:only-child th {\n",
       "        text-align: right;\n",
       "    }\n",
       "\n",
       "    .dataframe thead th {\n",
       "        text-align: left;\n",
       "    }\n",
       "\n",
       "    .dataframe tbody tr th {\n",
       "        vertical-align: top;\n",
       "    }\n",
       "</style>\n",
       "<table border=\"1\" class=\"dataframe\">\n",
       "  <thead>\n",
       "    <tr style=\"text-align: right;\">\n",
       "      <th></th>\n",
       "      <th>client_account_id</th>\n",
       "      <th>date</th>\n",
       "      <th>event_name</th>\n",
       "      <th>manager_id</th>\n",
       "      <th>manager_nickname</th>\n",
       "    </tr>\n",
       "  </thead>\n",
       "  <tbody>\n",
       "    <tr>\n",
       "      <th>0</th>\n",
       "      <td>0</td>\n",
       "      <td>2022-05-09</td>\n",
       "      <td>first_touch</td>\n",
       "      <td>1.0</td>\n",
       "      <td>Justin Beiber</td>\n",
       "    </tr>\n",
       "    <tr>\n",
       "      <th>1</th>\n",
       "      <td>1</td>\n",
       "      <td>2022-03-21</td>\n",
       "      <td>first_touch</td>\n",
       "      <td>3.0</td>\n",
       "      <td>Joe Biden</td>\n",
       "    </tr>\n",
       "    <tr>\n",
       "      <th>2</th>\n",
       "      <td>2</td>\n",
       "      <td>2022-04-18</td>\n",
       "      <td>first_touch</td>\n",
       "      <td>2.0</td>\n",
       "      <td>Kylie Jenner</td>\n",
       "    </tr>\n",
       "    <tr>\n",
       "      <th>3</th>\n",
       "      <td>3</td>\n",
       "      <td>2022-02-07</td>\n",
       "      <td>first_touch</td>\n",
       "      <td>2.0</td>\n",
       "      <td>Kylie Jenner</td>\n",
       "    </tr>\n",
       "    <tr>\n",
       "      <th>4</th>\n",
       "      <td>4</td>\n",
       "      <td>2022-04-08</td>\n",
       "      <td>first_touch</td>\n",
       "      <td>1.0</td>\n",
       "      <td>Justin Beiber</td>\n",
       "    </tr>\n",
       "  </tbody>\n",
       "</table>\n",
       "</div>"
      ],
      "text/plain": [
       "   client_account_id        date   event_name  manager_id manager_nickname\n",
       "0                  0  2022-05-09  first_touch         1.0    Justin Beiber\n",
       "1                  1  2022-03-21  first_touch         3.0        Joe Biden\n",
       "2                  2  2022-04-18  first_touch         2.0     Kylie Jenner\n",
       "3                  3  2022-02-07  first_touch         2.0     Kylie Jenner\n",
       "4                  4  2022-04-08  first_touch         1.0    Justin Beiber"
      ]
     },
     "execution_count": 5,
     "metadata": {},
     "output_type": "execute_result"
    }
   ],
   "source": [
    "df = pd.read_csv('best_salesman_homework.csv')\n",
    "print(\"Dataset size: \", df.shape)\n",
    "df.head()"
   ]
  },
  {
   "cell_type": "code",
   "execution_count": 14,
   "metadata": {},
   "outputs": [
    {
     "data": {
      "text/plain": [
       "Joe Biden        1249\n",
       "Kylie Jenner     1007\n",
       "Justin Beiber     927\n",
       "Name: manager_nickname, dtype: int64"
      ]
     },
     "execution_count": 14,
     "metadata": {},
     "output_type": "execute_result"
    }
   ],
   "source": [
    "\n",
    "df['manager_nickname'].value_counts()\n"
   ]
  },
  {
   "cell_type": "code",
   "execution_count": 19,
   "metadata": {},
   "outputs": [
    {
     "data": {
      "text/plain": [
       "2987"
      ]
     },
     "execution_count": 19,
     "metadata": {},
     "output_type": "execute_result"
    }
   ],
   "source": [
    "# calculating unique clients \n",
    "len(df['client_account_id'].unique())"
   ]
  },
  {
   "cell_type": "code",
   "execution_count": 101,
   "metadata": {},
   "outputs": [
    {
     "data": {
      "text/html": [
       "<div>\n",
       "<style>\n",
       "    .dataframe thead tr:only-child th {\n",
       "        text-align: right;\n",
       "    }\n",
       "\n",
       "    .dataframe thead th {\n",
       "        text-align: left;\n",
       "    }\n",
       "\n",
       "    .dataframe tbody tr th {\n",
       "        vertical-align: top;\n",
       "    }\n",
       "</style>\n",
       "<table border=\"1\" class=\"dataframe\">\n",
       "  <thead>\n",
       "    <tr style=\"text-align: right;\">\n",
       "      <th>event_name</th>\n",
       "      <th>deal</th>\n",
       "      <th>first_touch</th>\n",
       "    </tr>\n",
       "    <tr>\n",
       "      <th>manager_nickname</th>\n",
       "      <th></th>\n",
       "      <th></th>\n",
       "    </tr>\n",
       "  </thead>\n",
       "  <tbody>\n",
       "    <tr>\n",
       "      <th>Joe Biden</th>\n",
       "      <td>91</td>\n",
       "      <td>1158</td>\n",
       "    </tr>\n",
       "    <tr>\n",
       "      <th>Justin Beiber</th>\n",
       "      <td>37</td>\n",
       "      <td>890</td>\n",
       "    </tr>\n",
       "    <tr>\n",
       "      <th>Kylie Jenner</th>\n",
       "      <td>68</td>\n",
       "      <td>939</td>\n",
       "    </tr>\n",
       "  </tbody>\n",
       "</table>\n",
       "</div>"
      ],
      "text/plain": [
       "event_name        deal  first_touch\n",
       "manager_nickname                   \n",
       "Joe Biden           91         1158\n",
       "Justin Beiber       37          890\n",
       "Kylie Jenner        68          939"
      ]
     },
     "execution_count": 101,
     "metadata": {},
     "output_type": "execute_result"
    }
   ],
   "source": [
    "#see how the observations in our dataset are distributed in the context of two variables - manager_nickname and event_name\n",
    "pd.crosstab(df[\"manager_nickname\"], df[\"event_name\"])"
   ]
  },
  {
   "cell_type": "code",
   "execution_count": 115,
   "metadata": {},
   "outputs": [
    {
     "data": {
      "text/plain": [
       "987"
      ]
     },
     "execution_count": 115,
     "metadata": {},
     "output_type": "execute_result"
    }
   ],
   "source": [
    "#Calculating unique Jenner`s clients\n",
    "Kylie_Jenner_df = df.loc[df['manager_nickname'] == 'Kylie Jenner']\n",
    "Kylie_Jenner_unique = len(Kylie_Jenner_df['client_account_id'].unique())\n",
    "Kylie_Jenner_unique\n"
   ]
  },
  {
   "cell_type": "code",
   "execution_count": 114,
   "metadata": {},
   "outputs": [
    {
     "data": {
      "text/plain": [
       "916"
      ]
     },
     "execution_count": 114,
     "metadata": {},
     "output_type": "execute_result"
    }
   ],
   "source": [
    "# Calculating unique Beiber`s clients\n",
    "Justin_Beiber_df = df.loc[df['manager_nickname'] == 'Justin Beiber']\n",
    "Justin_Beiber_unique = len(Justin_Beiber_df['client_account_id'].unique())\n",
    "Justin_Beiber_unique"
   ]
  },
  {
   "cell_type": "code",
   "execution_count": 113,
   "metadata": {},
   "outputs": [
    {
     "data": {
      "text/plain": [
       "1215"
      ]
     },
     "execution_count": 113,
     "metadata": {},
     "output_type": "execute_result"
    }
   ],
   "source": [
    "#Calculating unique Biden`s clients\n",
    "Joe_Biden_df = df.loc[df['manager_nickname'] == 'Joe Biden']\n",
    "Joe_Biden_unique = len(Joe_Biden_df['client_account_id'].unique())\n",
    "Joe_Biden_unique\n"
   ]
  },
  {
   "cell_type": "code",
   "execution_count": 121,
   "metadata": {},
   "outputs": [
    {
     "data": {
      "text/plain": [
       "91"
      ]
     },
     "execution_count": 121,
     "metadata": {},
     "output_type": "execute_result"
    }
   ],
   "source": [
    "# Calculating Beiden`s deals\n",
    "Joe_Beiden_deal = df.loc[(df['manager_nickname'] == 'Joe Biden') & (df['event_name'] == 'deal')]\n",
    "Joe_Biden_deal_count = len(Joe_Beiden_deal['client_account_id'].unique())\n",
    "Joe_Biden_deal_count\n"
   ]
  },
  {
   "cell_type": "code",
   "execution_count": 125,
   "metadata": {},
   "outputs": [
    {
     "data": {
      "text/plain": [
       "68"
      ]
     },
     "execution_count": 125,
     "metadata": {},
     "output_type": "execute_result"
    }
   ],
   "source": [
    "# Calculating Jenner`s deals\n",
    "Kylie_Jenner_deal = df.loc[(df['manager_nickname'] == 'Kylie Jenner') & (df['event_name'] == 'deal')]\n",
    "Kylie_Jenner_deal_count = len(Kylie_Jenner_deal['client_account_id'].unique())\n",
    "Kylie_Jenner_deal_count\n"
   ]
  },
  {
   "cell_type": "code",
   "execution_count": 124,
   "metadata": {},
   "outputs": [
    {
     "data": {
      "text/plain": [
       "37"
      ]
     },
     "execution_count": 124,
     "metadata": {},
     "output_type": "execute_result"
    }
   ],
   "source": [
    "# Calculating Beiber`s deals\n",
    "Justin_Beiber_deal = df.loc[(df['manager_nickname'] == 'Justin Beiber') & (df['event_name'] == 'deal')]\n",
    "Justin_Beiber_deal_count = len(Justin_Beiber_deal['client_account_id'].unique())\n",
    "Justin_Beiber_deal_count\n"
   ]
  },
  {
   "cell_type": "code",
   "execution_count": 126,
   "metadata": {},
   "outputs": [
    {
     "name": "stdout",
     "output_type": "stream",
     "text": [
      "7 %\n"
     ]
    }
   ],
   "source": [
    "#Joe Biden conversion rate \n",
    "print(int((Joe_Biden_deal_count/Joe_Biden_unique)*100),'%')"
   ]
  },
  {
   "cell_type": "code",
   "execution_count": 127,
   "metadata": {},
   "outputs": [
    {
     "name": "stdout",
     "output_type": "stream",
     "text": [
      "4 %\n"
     ]
    }
   ],
   "source": [
    "#Justin Beiber conversion rate\n",
    "print(int((Justin_Beiber_deal_count/Justin_Beiber_unique)*100),'%')"
   ]
  },
  {
   "cell_type": "code",
   "execution_count": 128,
   "metadata": {},
   "outputs": [
    {
     "name": "stdout",
     "output_type": "stream",
     "text": [
      "6 %\n"
     ]
    }
   ],
   "source": [
    "#Kylie Jenner conversion rate\n",
    "print(int((Kylie_Jenner_deal_count/Kylie_Jenner_unique)*100),'%')"
   ]
  }
 ],
 "metadata": {
  "kernelspec": {
   "display_name": "Python 3",
   "language": "python",
   "name": "python3"
  },
  "language_info": {
   "codemirror_mode": {
    "name": "ipython",
    "version": 3
   },
   "file_extension": ".py",
   "mimetype": "text/x-python",
   "name": "python",
   "nbconvert_exporter": "python",
   "pygments_lexer": "ipython3",
   "version": "3.6.2"
  }
 },
 "nbformat": 4,
 "nbformat_minor": 2
}
